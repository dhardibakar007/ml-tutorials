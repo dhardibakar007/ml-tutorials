{
 "cells": [
  {
   "cell_type": "markdown",
   "metadata": {},
   "source": [
    "# Generating LHC data with Flows"
   ]
  },
  {
   "cell_type": "markdown",
   "metadata": {},
   "source": [
    "This week we will use Invertible Neural Networks (INNs) to generate LHC data.  They are a type of normalising flow.  The task this week will be exactly as it was with the GAN, except using the INN.  Instead of doing part of the work for you, I have instead provided some example code for how to define an INN, how to write down it's loss function, and how to sample from it."
   ]
  },
  {
   "cell_type": "markdown",
   "metadata": {},
   "source": [
    "Background:\n",
    "- Simulations for LHC physics is a major computational task at the experiment, and will become more computationally intensive in the coming years, so if ML techniques can speed up some aspects of this then it would be very useful\n",
    "- As a proof of concept, we will show how a normalising flow, specifically an Invertible Neural Network (INN), can be optimised to generate events simulated by traditional high energy physics simulation software\n",
    "- The process we are studying is Drell-Yan: $pp\\rightarrow Z\\rightarrow \\mu\\mu$\n",
    "- Naively, the dimension of this phase space is 8D, the 4 momentum of the two final state particles\n",
    "- The generative network samples random noise from a unit Normal distribution, passes it through an invertible network to produce an 8D output\n",
    "- **There are detailed notes on this in your lecture notes, please read them!**"
   ]
  },
  {
   "cell_type": "markdown",
   "metadata": {},
   "source": [
    "Interesting paper:\n",
    "- Invertible Networks or Partons to Detector and Back Again\n",
    "    - Bellagente et al\n",
    "    - https://arxiv.org/abs/2006.06685"
   ]
  },
  {
   "cell_type": "markdown",
   "metadata": {},
   "source": [
    "Outline:\n",
    "- Imports and plotting set-up\n",
    "- Study the data\n",
    "- Datasets and dataloaders\n",
    "- Building the INN\n",
    "- Optimising the INN\n",
    "- Study the results - let's generate some events!\n",
    "- Removing redundant degrees of freedom\n",
    "- Optimising the INN on the reduced data\n",
    "- Study the new results\n",
    "- Concluding remarks"
   ]
  },
  {
   "cell_type": "markdown",
   "metadata": {},
   "source": [
    "You need install the FrEIA package to use the INN modules, you can install it from the terminal with:"
   ]
  },
  {
   "cell_type": "raw",
   "metadata": {},
   "source": [
    "python3 -m pip install git+https://github.com/VLL-HD/FrEIA.git"
   ]
  },
  {
   "cell_type": "markdown",
   "metadata": {},
   "source": [
    "The documentation can be found here:\n",
    "\n",
    "https://github.com/VLL-HD/FrEIA"
   ]
  },
  {
   "cell_type": "markdown",
   "metadata": {},
   "source": [
    "Example code for how to define an INN, how to write it's loss function, and how to sample from it:"
   ]
  },
  {
   "cell_type": "raw",
   "metadata": {},
   "source": [
    "# FrEIA imports\n",
    "import FrEIA.framework as Ff\n",
    "import FrEIA.modules as Fm\n",
    "\n",
    "BATCHSIZE = 100\n",
    "N_DIM = 8\n",
    "\n",
    "# we define a subnet for use inside an affine coupling block for more detailed information see the full tutorial\n",
    "def subnet_fc(dims_in, dims_out):\n",
    "    return nn.Sequential(nn.Linear(dims_in, 128), nn.ReLU(),\n",
    "                         nn.Linear(128,  dims_out))\n",
    "\n",
    "# a simple chain of operations is collected by ReversibleSequential\n",
    "inn = Ff.SequenceINN(N_DIM)\n",
    "for k in range(8):\n",
    "    inn.append(Fm.AllInOneBlock, subnet_constructor=subnet_fc, permute_soft=True)\n",
    "    \n",
    "# pass to INN and get transformed variable z and log Jacobian determinant\n",
    "z, log_jac_det = inn(x)    \n",
    "    \n",
    "# calculate the negative log-likelihood of the model with a standard normal prior\n",
    "loss = 0.5*torch.sum(z**2, 1) - log_jac_det\n",
    "loss = loss.mean() / N_DIM  \n",
    "  \n",
    "# sample from the INN by sampling from a standard normal and transforming it in the reverse direction\n",
    "z = torch.randn(BATCHSIZE, N_DIM)\n",
    "samples, _ = inn(z, rev=True)"
   ]
  },
  {
   "cell_type": "markdown",
   "metadata": {},
   "source": [
    "### Imports"
   ]
  },
  {
   "cell_type": "code",
   "execution_count": 14,
   "metadata": {},
   "outputs": [],
   "source": [
    "import os\n",
    "import sys\n",
    "import random\n",
    "import time\n",
    "import numpy as np\n",
    "import torch\n",
    "from torch.utils.data import TensorDataset\n",
    "from torch.utils.data import DataLoader\n",
    "from torch import nn\n",
    "from torch.nn import functional as F\n",
    "from torch.nn import Sequential, Linear, ReLU\n",
    "from torch.nn.utils import spectral_norm\n",
    "import matplotlib.pyplot as plt\n",
    "\n",
    "# FrEIA imports\n",
    "import FrEIA.framework as Ff\n",
    "import FrEIA.modules as Fm"
   ]
  },
  {
   "cell_type": "markdown",
   "metadata": {},
   "source": [
    "## Loading the data"
   ]
  },
  {
   "cell_type": "markdown",
   "metadata": {},
   "source": [
    "We can load the data from here:"
   ]
  },
  {
   "cell_type": "code",
   "execution_count": 4,
   "metadata": {},
   "outputs": [],
   "source": [
    "dy_trn_data = np.load('tutorial-11-data/dy_trn_data.npy')\n",
    "dy_val_data = np.load('tutorial-11-data/dy_val_data.npy')\n",
    "dy_tst_data = np.load('tutorial-11-data/dy_tst_data.npy')"
   ]
  },
  {
   "cell_type": "code",
   "execution_count": 5,
   "metadata": {},
   "outputs": [
    {
     "data": {
      "text/plain": [
       "((1384081, 8), (296588, 8), (296588, 8))"
      ]
     },
     "execution_count": 5,
     "metadata": {},
     "output_type": "execute_result"
    }
   ],
   "source": [
    "dy_trn_data.shape, dy_val_data.shape, dy_tst_data.shape"
   ]
  },
  {
   "cell_type": "markdown",
   "metadata": {},
   "source": [
    "Each element of the data has 8 entries, corresponding to the 4-momenta of each muon in the process.\n",
    "\n",
    "Each entry has the form $[E_1, p_{x,1}, p_{y,1}, p_{z,1}, E_2, p_{x,2}, p_{y,2}, p_{z,2}]$."
   ]
  },
  {
   "cell_type": "markdown",
   "metadata": {},
   "source": [
    "## Study the data"
   ]
  },
  {
   "cell_type": "markdown",
   "metadata": {},
   "source": [
    "We need to be able to calculate the invariant mass of each event, and the $p_T$ of the event and the jets.\n",
    "\n",
    "Let's write a function for this:"
   ]
  },
  {
   "cell_type": "code",
   "execution_count": 6,
   "metadata": {},
   "outputs": [],
   "source": [
    "def get_obs(event):\n",
    "    jet1_4m = event[:,0:4]\n",
    "    jet2_4m = event[:,4:]\n",
    "    evnt_4m = np.sum((jet1_4m,jet2_4m), axis=0)\n",
    "    \n",
    "    evnt_im = np.sqrt(np.sum((evnt_4m[:,0]**2, -evnt_4m[:,1]**2, -evnt_4m[:,2]**2, -evnt_4m[:,3]**2 ), axis=0))\n",
    "    \n",
    "    evnt_pt = np.sqrt(evnt_4m[:,1]**2 + evnt_4m[:,2]**2)\n",
    "    jet1_pt = np.sqrt(jet1_4m[:,1]**2 + jet1_4m[:,2]**2)\n",
    "    jet2_pt = np.sqrt(jet2_4m[:,1]**2 + jet2_4m[:,2]**2)\n",
    "    \n",
    "    return evnt_im, evnt_pt, jet1_pt, jet2_pt"
   ]
  },
  {
   "cell_type": "markdown",
   "metadata": {},
   "source": [
    "Now test it:"
   ]
  },
  {
   "cell_type": "code",
   "execution_count": 7,
   "metadata": {},
   "outputs": [
    {
     "data": {
      "text/plain": [
       "(array([90.98955316, 91.3711254 ]),\n",
       " array([0., 0.]),\n",
       " array([44.32344982, 35.10745113]),\n",
       " array([44.32344982, 35.10745113]))"
      ]
     },
     "execution_count": 7,
     "metadata": {},
     "output_type": "execute_result"
    }
   ],
   "source": [
    "get_obs(dy_trn_data[0:2])"
   ]
  },
  {
   "cell_type": "markdown",
   "metadata": {},
   "source": [
    "The $p_T$ of the events will always be zero here due to the fact that the initial incoming protons have no transverse momentum."
   ]
  },
  {
   "cell_type": "markdown",
   "metadata": {},
   "source": [
    "Let's get the observables for the whole dataset:"
   ]
  },
  {
   "cell_type": "code",
   "execution_count": 8,
   "metadata": {},
   "outputs": [],
   "source": [
    "trn_evnt_ims, trn_evnt_pts, trn_jet1_pts, trn_jet2_pts = get_obs(dy_trn_data)\n",
    "val_evnt_ims, val_evnt_pts, val_jet1_pts, val_jet2_pts = get_obs(dy_val_data)\n",
    "tst_evnt_ims, tst_evnt_pts, tst_jet1_pts, tst_jet2_pts = get_obs(dy_tst_data)"
   ]
  },
  {
   "cell_type": "code",
   "execution_count": 9,
   "metadata": {},
   "outputs": [
    {
     "data": {
      "text/plain": [
       "(1384081,)"
      ]
     },
     "execution_count": 9,
     "metadata": {},
     "output_type": "execute_result"
    }
   ],
   "source": [
    "trn_evnt_ims.shape"
   ]
  },
  {
   "cell_type": "markdown",
   "metadata": {},
   "source": [
    "Let's plot the invariant mass of the events:"
   ]
  },
  {
   "cell_type": "code",
   "execution_count": 34,
   "metadata": {},
   "outputs": [
    {
     "data": {
      "text/plain": [
       "Text(0, 0.5, '# events')"
      ]
     },
     "execution_count": 34,
     "metadata": {},
     "output_type": "execute_result"
    },
    {
     "data": {
      "image/png": "[encoded data removed]",
      "text/plain": [
       "<Figure size 640x480 with 1 Axes>"
      ]
     },
     "metadata": {},
     "output_type": "display_data"
    }
   ],
   "source": [
    "fig, axs = plt.subplots()\n",
    "\n",
    "axs.hist(trn_evnt_ims, alpha=0.5, density=True, bins=15)\n",
    "\n",
    "axs.set_xlabel(\"$m_{\\mu\\mu}$ (GeV)\")\n",
    "axs.set_ylabel(\"# events\")"
   ]
  },
  {
   "cell_type": "markdown",
   "metadata": {},
   "source": [
    "Here we see the clear $Z$ mass peak at $\\simeq 90$ GeV."
   ]
  },
  {
   "cell_type": "markdown",
   "metadata": {},
   "source": [
    "Now let's look at $p_T$ distributions:"
   ]
  },
  {
   "cell_type": "code",
   "execution_count": 33,
   "metadata": {},
   "outputs": [
    {
     "data": {
      "text/plain": [
       "Text(0, 0.5, '# events')"
      ]
     },
     "execution_count": 33,
     "metadata": {},
     "output_type": "execute_result"
    },
    {
     "data": {
      "image/png": "[encoded data removed]",
      "text/plain": [
       "<Figure size 640x480 with 1 Axes>"
      ]
     },
     "metadata": {},
     "output_type": "display_data"
    }
   ],
   "source": [
    "fig, axs = plt.subplots()\n",
    "\n",
    "axs.hist(trn_jet1_pts, alpha=0.5, density=True, bins=15)\n",
    "axs.hist(trn_jet2_pts, alpha=0.5, density=True, bins=15)\n",
    "\n",
    "axs.set_xlabel(\"$p_{T}$ (GeV)\")\n",
    "axs.set_ylabel(\"# events\")"
   ]
  },
  {
   "cell_type": "markdown",
   "metadata": {},
   "source": [
    "These distributions are completely overlapping with a peak near $m_{\\mu\\mu}/2$."
   ]
  },
  {
   "cell_type": "markdown",
   "metadata": {},
   "source": [
    "# Datasets and dataloaders"
   ]
  },
  {
   "cell_type": "markdown",
   "metadata": {},
   "source": [
    "Let's normalise the data a little bit by dividing all dimensionful quantities by $100$ GeV."
   ]
  },
  {
   "cell_type": "code",
   "execution_count": 25,
   "metadata": {},
   "outputs": [],
   "source": [
    "trn_mean = np.mean(dy_trn_data, axis=0)\n",
    "trn_std = np.std(dy_trn_data, axis=0)\n",
    "dy_trn_data_p = torch.Tensor((dy_trn_data - trn_mean) / trn_std)\n",
    "dy_val_data_p = torch.Tensor((dy_val_data - trn_mean) / trn_std)\n",
    "dy_tst_data_p = torch.Tensor((dy_tst_data - trn_mean) / trn_std)"
   ]
  },
  {
   "cell_type": "code",
   "execution_count": 26,
   "metadata": {},
   "outputs": [],
   "source": [
    "trn_dataset = TensorDataset(dy_trn_data_p)\n",
    "val_dataset = TensorDataset(dy_val_data_p)\n",
    "tst_dataset = TensorDataset(dy_tst_data_p)"
   ]
  },
  {
   "cell_type": "markdown",
   "metadata": {},
   "source": [
    "Using a bigger batch size this time, this helps for generative networks."
   ]
  },
  {
   "cell_type": "code",
   "execution_count": 27,
   "metadata": {},
   "outputs": [],
   "source": [
    "trn_dataloader = DataLoader(trn_dataset, batch_size=2500, shuffle=True)\n",
    "val_dataloader = DataLoader(val_dataset, batch_size=2500, shuffle=True)\n",
    "tst_dataloader = DataLoader(tst_dataset, batch_size=2500, shuffle=True)"
   ]
  },
  {
   "cell_type": "markdown",
   "metadata": {},
   "source": [
    "## Building and optimising the INN"
   ]
  },
  {
   "cell_type": "markdown",
   "metadata": {},
   "source": [
    "First, we set the device."
   ]
  },
  {
   "cell_type": "code",
   "execution_count": 28,
   "metadata": {},
   "outputs": [
    {
     "name": "stdout",
     "output_type": "stream",
     "text": [
      "Using cpu device\n"
     ]
    }
   ],
   "source": [
    "device = \"cuda\" if torch.cuda.is_available() else \"cpu\"\n",
    "print(f\"Using {device} device\")"
   ]
  },
  {
   "cell_type": "code",
   "execution_count": 29,
   "metadata": {},
   "outputs": [],
   "source": [
    "def inn_loss(z, ndim, log_jac_det):\n",
    "    l = 0.5*torch.sum(z**2, 1) - log_jac_det\n",
    "    return l.mean() / ndim"
   ]
  },
  {
   "cell_type": "code",
   "execution_count": 30,
   "metadata": {},
   "outputs": [],
   "source": [
    "def train_epoch(dataloader, model, optimizer):\n",
    "    size = len(dataloader.dataset)\n",
    "    \n",
    "    for batch, x in enumerate(dataloader):\n",
    "        # pass data through network\n",
    "        z, log_jac_det = model(x)\n",
    "        \n",
    "        # compute loss\n",
    "        loss = inn_loss(z, ndim, log_jac_det)\n",
    "\n",
    "        # reset gradients in optimizer\n",
    "        optimizer.zero_grad()\n",
    "        \n",
    "        # compute gradients\n",
    "        loss.backward()\n",
    "        \n",
    "        # update weights with optimizer\n",
    "        optimizer.step()\n",
    "        \n",
    "        # print the training loss every 100 updates\n",
    "        if batch % 100 == 0:\n",
    "            loss, current = loss.item(), batch * len(x)\n",
    "            print(f\"current batch loss: {loss:>7f}  [{current:>5d}/{size:>5d}]\")"
   ]
  },
  {
   "cell_type": "code",
   "execution_count": 31,
   "metadata": {},
   "outputs": [],
   "source": [
    "def val_pass(dataloader, model):\n",
    "    size = len(dataloader.dataset)\n",
    "    num_batches = len(dataloader)\n",
    "    vl = 0.0\n",
    "\n",
    "    # we don't need gradients here since we only use the forward pass\n",
    "    with torch.no_grad():\n",
    "        for x in dataloader:\n",
    "            z, log_jac_det = model(x)\n",
    "            vl += inn_loss(z, ndim, log_jac_det).item()\n",
    "\n",
    "    vl /= num_batches\n",
    "    print(f\"avg val loss per batch: {vl:>8f}\")\n",
    "    \n",
    "    return vl\n",
    "\n",
    "def trn_pass(dataloader, model):\n",
    "    size = len(dataloader.dataset)\n",
    "    num_batches = len(dataloader)\n",
    "    tl = 0.0\n",
    "\n",
    "    # we don't need gradients here since we only use the forward pass\n",
    "    with torch.no_grad():\n",
    "        for x in dataloader:\n",
    "            z, log_jac_det = model(x)\n",
    "            tl += inn_loss(z, ndim, log_jac_det).item()\n",
    "\n",
    "    tl /= num_batches\n",
    "    print(f\"avg trn loss per batch: {tl:>8f}\")\n",
    "    \n",
    "    return tl"
   ]
  },
  {
   "cell_type": "markdown",
   "metadata": {},
   "source": [
    "To optimise the network we need separate optimizers for each model, and we also add a learning rate scheduler regulate the training further."
   ]
  },
  {
   "cell_type": "code",
   "execution_count": 40,
   "metadata": {
    "scrolled": true
   },
   "outputs": [
    {
     "name": "stdout",
     "output_type": "stream",
     "text": [
      "-----------------------------------------------\n",
      "model architecture\n",
      "-----------------------------------------------\n",
      "SequenceINN(\n",
      "  (module_list): ModuleList(\n",
      "    (0-7): 8 x AllInOneBlock(\n",
      "      (softplus): Softplus(beta=0.5, threshold=20)\n",
      "      (subnet): Sequential(\n",
      "        (0): Linear(in_features=4, out_features=32, bias=True)\n",
      "        (1): ReLU()\n",
      "        (2): Linear(in_features=32, out_features=32, bias=True)\n",
      "        (3): ReLU()\n",
      "        (4): Linear(in_features=32, out_features=8, bias=True)\n",
      "      )\n",
      "    )\n",
      "  )\n",
      ")\n",
      "-----------------------------------------------\n",
      "Epoch 1\n",
      "-----------------------------------------------\n",
      "current batch loss: 0.497235  [    0/1384081]\n",
      "current batch loss: -0.201610  [  100/1384081]\n",
      "current batch loss: -0.747552  [  200/1384081]\n",
      "current batch loss: -0.896170  [  300/1384081]\n",
      "current batch loss: -1.007926  [  400/1384081]\n",
      "current batch loss: -1.053353  [  500/1384081]\n",
      "-----------------------------------------------\n",
      "avg trn loss per batch: -1.135988\n",
      "-----------------------------------------------\n",
      "avg val loss per batch: -1.137401\n",
      "-----------------------------------------------\n",
      "|\n",
      "-----------------------------------------------\n",
      "Epoch 2\n",
      "-----------------------------------------------\n",
      "current batch loss: -1.137663  [    0/1384081]\n",
      "current batch loss: -1.225221  [  100/1384081]\n",
      "current batch loss: -1.163046  [  200/1384081]\n",
      "current batch loss: -1.313057  [  300/1384081]\n",
      "current batch loss: -1.343847  [  400/1384081]\n",
      "current batch loss: -1.358946  [  500/1384081]\n",
      "-----------------------------------------------\n",
      "avg trn loss per batch: -1.407234\n",
      "-----------------------------------------------\n",
      "avg val loss per batch: -1.408860\n",
      "-----------------------------------------------\n",
      "|\n",
      "-----------------------------------------------\n",
      "Epoch 3\n",
      "-----------------------------------------------\n",
      "current batch loss: -1.405015  [    0/1384081]\n",
      "current batch loss: -1.443022  [  100/1384081]\n",
      "current batch loss: -1.467504  [  200/1384081]\n",
      "current batch loss: -1.467301  [  300/1384081]\n",
      "current batch loss: -1.383670  [  400/1384081]\n",
      "current batch loss: -1.525556  [  500/1384081]\n",
      "-----------------------------------------------\n",
      "avg trn loss per batch: -1.502108\n",
      "-----------------------------------------------\n",
      "avg val loss per batch: -1.503504\n",
      "-----------------------------------------------\n",
      "|\n",
      "-----------------------------------------------\n",
      "Epoch 4\n",
      "-----------------------------------------------\n",
      "current batch loss: -1.517131  [    0/1384081]\n",
      "current batch loss: -1.546954  [  100/1384081]\n",
      "current batch loss: -1.557855  [  200/1384081]\n",
      "current batch loss: -1.583079  [  300/1384081]\n",
      "current batch loss: -1.566595  [  400/1384081]\n",
      "current batch loss: -1.586536  [  500/1384081]\n",
      "-----------------------------------------------\n",
      "avg trn loss per batch: -1.577294\n",
      "-----------------------------------------------\n",
      "avg val loss per batch: -1.578662\n",
      "-----------------------------------------------\n",
      "|\n",
      "-----------------------------------------------\n",
      "Epoch 5\n",
      "-----------------------------------------------\n",
      "current batch loss: -1.571304  [    0/1384081]\n",
      "current batch loss: -1.627881  [  100/1384081]\n",
      "current batch loss: -1.602978  [  200/1384081]\n",
      "current batch loss: -1.571489  [  300/1384081]\n",
      "current batch loss: -1.623373  [  400/1384081]\n",
      "current batch loss: -1.597628  [  500/1384081]\n",
      "-----------------------------------------------\n",
      "avg trn loss per batch: -1.612803\n",
      "-----------------------------------------------\n",
      "avg val loss per batch: -1.613532\n",
      "-----------------------------------------------\n",
      "|\n",
      "-----------------------------------------------\n",
      "Epoch 6\n",
      "-----------------------------------------------\n",
      "current batch loss: -1.605035  [    0/1384081]\n",
      "current batch loss: -1.627810  [  100/1384081]\n",
      "current batch loss: -1.663173  [  200/1384081]\n",
      "current batch loss: -1.648492  [  300/1384081]\n",
      "current batch loss: -1.678184  [  400/1384081]\n",
      "current batch loss: -1.685024  [  500/1384081]\n",
      "-----------------------------------------------\n",
      "avg trn loss per batch: -1.615379\n",
      "-----------------------------------------------\n",
      "avg val loss per batch: -1.616472\n",
      "-----------------------------------------------\n",
      "|\n",
      "-----------------------------------------------\n",
      "Epoch 7\n",
      "-----------------------------------------------\n",
      "current batch loss: -1.627123  [    0/1384081]\n",
      "current batch loss: -1.678464  [  100/1384081]\n",
      "current batch loss: -1.670429  [  200/1384081]\n",
      "current batch loss: -1.695146  [  300/1384081]\n",
      "current batch loss: -1.636373  [  400/1384081]\n",
      "current batch loss: -1.696961  [  500/1384081]\n",
      "-----------------------------------------------\n",
      "avg trn loss per batch: -1.671487\n",
      "-----------------------------------------------\n",
      "avg val loss per batch: -1.672114\n",
      "-----------------------------------------------\n",
      "|\n",
      "-----------------------------------------------\n",
      "Epoch 8\n",
      "-----------------------------------------------\n",
      "current batch loss: -1.671359  [    0/1384081]\n",
      "current batch loss: -1.737913  [  100/1384081]\n",
      "current batch loss: -1.731909  [  200/1384081]\n",
      "current batch loss: -1.742818  [  300/1384081]\n",
      "current batch loss: -1.731414  [  400/1384081]\n",
      "current batch loss: -1.732413  [  500/1384081]\n",
      "-----------------------------------------------\n",
      "avg trn loss per batch: -1.711119\n",
      "-----------------------------------------------\n",
      "avg val loss per batch: -1.711619\n",
      "-----------------------------------------------\n",
      "|\n",
      "-----------------------------------------------\n",
      "Epoch 9\n",
      "-----------------------------------------------\n",
      "current batch loss: -1.718509  [    0/1384081]\n",
      "current batch loss: -1.737593  [  100/1384081]\n",
      "current batch loss: -1.739228  [  200/1384081]\n",
      "current batch loss: -1.653664  [  300/1384081]\n",
      "current batch loss: -1.768412  [  400/1384081]\n",
      "current batch loss: -1.767549  [  500/1384081]\n",
      "-----------------------------------------------\n",
      "avg trn loss per batch: -1.781125\n",
      "-----------------------------------------------\n",
      "avg val loss per batch: -1.781953\n",
      "-----------------------------------------------\n",
      "|\n",
      "-----------------------------------------------\n",
      "Epoch 10\n",
      "-----------------------------------------------\n",
      "current batch loss: -1.785202  [    0/1384081]\n",
      "current batch loss: -1.705116  [  100/1384081]\n",
      "current batch loss: -1.807178  [  200/1384081]\n",
      "current batch loss: -1.758865  [  300/1384081]\n",
      "current batch loss: -1.770737  [  400/1384081]\n",
      "current batch loss: -1.805146  [  500/1384081]\n",
      "-----------------------------------------------\n",
      "avg trn loss per batch: -1.811103\n",
      "-----------------------------------------------\n",
      "avg val loss per batch: -1.811739\n",
      "-----------------------------------------------\n",
      "|\n",
      "Done!\n"
     ]
    }
   ],
   "source": [
    "# a useful function to present things clearer\n",
    "def separator():\n",
    "    print( \"-----------------------------------------------\" )\n",
    "\n",
    "epochs = 10\n",
    "\n",
    "# initialise the model and the optimizer\n",
    "def subnet_fc(dims_in, dims_out):\n",
    "    return nn.Sequential(\n",
    "        nn.Linear(dims_in, 32), \n",
    "        nn.ReLU(),\n",
    "        nn.Linear(32, 32), \n",
    "        nn.ReLU(),\n",
    "        nn.Linear(32,  dims_out)\n",
    "    )\n",
    "ndim = 8\n",
    "inn = Ff.SequenceINN(ndim)\n",
    "for k in range(8):\n",
    "    inn.append(Fm.AllInOneBlock, subnet_constructor=subnet_fc, permute_soft=True)\n",
    "learning_rate = 0.001\n",
    "optimizer = torch.optim.Adam(inn.parameters(), lr=learning_rate)\n",
    "separator()\n",
    "print(\"model architecture\")\n",
    "separator()\n",
    "print(inn)\n",
    "\n",
    "# track train and val losses\n",
    "trn_losses = []\n",
    "val_losses = []\n",
    "\n",
    "for t in range(epochs):\n",
    "    separator()\n",
    "    print(f\"Epoch {t+1}\")\n",
    "    separator()\n",
    "    train_epoch(trn_dataloader, inn, optimizer)\n",
    "    separator()\n",
    "    trn_loss = trn_pass(trn_dataloader, inn)\n",
    "    trn_losses.append(trn_loss)\n",
    "    separator()\n",
    "    val_loss = val_pass(val_dataloader, inn)\n",
    "    val_losses.append(val_loss)\n",
    "    separator()\n",
    "    print(\"|\")\n",
    "    \n",
    "print(\"Done!\")"
   ]
  },
  {
   "cell_type": "markdown",
   "metadata": {},
   "source": [
    "## Study the results"
   ]
  },
  {
   "cell_type": "markdown",
   "metadata": {},
   "source": [
    "First let's plot the training and validation losses to see how they look."
   ]
  },
  {
   "cell_type": "code",
   "execution_count": 41,
   "metadata": {},
   "outputs": [
    {
     "data": {
      "text/plain": [
       "<matplotlib.legend.Legend at 0x7f34264f4bb0>"
      ]
     },
     "execution_count": 41,
     "metadata": {},
     "output_type": "execute_result"
    },
    {
     "data": {
      "image/png": "[encoded data removed]",
      "text/plain": [
       "<Figure size 640x480 with 1 Axes>"
      ]
     },
     "metadata": {},
     "output_type": "display_data"
    }
   ],
   "source": [
    "fig, axs = plt.subplots()\n",
    "\n",
    "axs.plot(trn_losses, label=\"train loss\")\n",
    "axs.plot(val_losses, label=\"val loss\")\n",
    "\n",
    "axs.set_xlabel(\"epoch\")\n",
    "axs.set_ylabel(\"log likelihood loss\")\n",
    "axs.legend()"
   ]
  },
  {
   "cell_type": "markdown",
   "metadata": {},
   "source": [
    "## Let's generate some events!"
   ]
  },
  {
   "cell_type": "markdown",
   "metadata": {},
   "source": [
    "We first need to generate random data from the unit normal distribution, the same used during training, with the correct shape.  Here we use $10$k samples."
   ]
  },
  {
   "cell_type": "code",
   "execution_count": 51,
   "metadata": {},
   "outputs": [],
   "source": [
    "z_gen = torch.randn((10000, ndim))\n",
    "x_gen, _ = inn(z_gen, rev=True)\n",
    "x_gen = x_gen.detach().numpy() * trn_std + trn_mean"
   ]
  },
  {
   "cell_type": "code",
   "execution_count": 52,
   "metadata": {},
   "outputs": [
    {
     "data": {
      "text/plain": [
       "(10000, 8)"
      ]
     },
     "execution_count": 52,
     "metadata": {},
     "output_type": "execute_result"
    }
   ],
   "source": [
    "x_gen.shape"
   ]
  },
  {
   "cell_type": "markdown",
   "metadata": {},
   "source": [
    "Plot the energy distribution of the first jet, for both real and generated data:"
   ]
  },
  {
   "cell_type": "code",
   "execution_count": 54,
   "metadata": {},
   "outputs": [
    {
     "data": {
      "text/plain": [
       "<matplotlib.legend.Legend at 0x7f3421db1ed0>"
      ]
     },
     "execution_count": 54,
     "metadata": {},
     "output_type": "execute_result"
    },
    {
     "data": {
      "image/png": "[encoded data removed]",
      "text/plain": [
       "<Figure size 640x480 with 1 Axes>"
      ]
     },
     "metadata": {},
     "output_type": "display_data"
    }
   ],
   "source": [
    "fig, axs = plt.subplots()\n",
    "\n",
    "bins = np.arange(0, 350, step=20)\n",
    "axs.hist(x_gen[:,0], alpha=0.5, density=True, bins=bins, label='gen')\n",
    "axs.hist(dy_trn_data[:,0], alpha=0.5, density=True, bins=bins, label='real')\n",
    "\n",
    "axs.set_xlabel(\"$E_{1}$ (GeV)\")\n",
    "axs.set_ylabel(\"# events\")\n",
    "axs.legend()"
   ]
  },
  {
   "cell_type": "markdown",
   "metadata": {},
   "source": [
    "Looks good!"
   ]
  },
  {
   "cell_type": "markdown",
   "metadata": {},
   "source": [
    "We can do the same for $p_y$ of the first jet:"
   ]
  },
  {
   "cell_type": "code",
   "execution_count": 55,
   "metadata": {},
   "outputs": [
    {
     "data": {
      "text/plain": [
       "<matplotlib.legend.Legend at 0x7f34266e0f40>"
      ]
     },
     "execution_count": 55,
     "metadata": {},
     "output_type": "execute_result"
    },
    {
     "data": {
      "image/png": "[encoded data removed]",
      "text/plain": [
       "<Figure size 640x480 with 1 Axes>"
      ]
     },
     "metadata": {},
     "output_type": "display_data"
    }
   ],
   "source": [
    "fig, axs = plt.subplots()\n",
    "\n",
    "bins = np.arange(-100, +100, step=10)\n",
    "axs.hist(x_gen[:,2], alpha=0.5, density=True, bins=bins, label='gen')\n",
    "axs.hist(dy_trn_data[:,2], alpha=0.5, density=True, bins=bins, label='real')\n",
    "\n",
    "axs.set_xlabel(\"$p_{y,1}$ (GeV)\")\n",
    "axs.set_ylabel(\"# events\")\n",
    "axs.legend()"
   ]
  },
  {
   "cell_type": "markdown",
   "metadata": {},
   "source": [
    "The network struggles to get the double peak structure and the sharply decaying tails of the real data right."
   ]
  },
  {
   "cell_type": "code",
   "execution_count": 56,
   "metadata": {},
   "outputs": [
    {
     "name": "stderr",
     "output_type": "stream",
     "text": [
      "/tmp/ipykernel_3790/1194887628.py:6: RuntimeWarning: invalid value encountered in sqrt\n",
      "  evnt_im = np.sqrt(np.sum((evnt_4m[:,0]**2, -evnt_4m[:,1]**2, -evnt_4m[:,2]**2, -evnt_4m[:,3]**2 ), axis=0))\n"
     ]
    }
   ],
   "source": [
    "x_gen_evnt_ims, x_gen_evnt_pts, x_gen_jet1_pts, x_gen_jet2_pts = get_obs(x_gen)"
   ]
  },
  {
   "cell_type": "markdown",
   "metadata": {},
   "source": [
    "The $p_T$ of the first jet:"
   ]
  },
  {
   "cell_type": "code",
   "execution_count": 57,
   "metadata": {},
   "outputs": [
    {
     "data": {
      "text/plain": [
       "<matplotlib.legend.Legend at 0x7f3426ab62c0>"
      ]
     },
     "execution_count": 57,
     "metadata": {},
     "output_type": "execute_result"
    },
    {
     "data": {
      "image/png": "[encoded data removed]",
      "text/plain": [
       "<Figure size 640x480 with 1 Axes>"
      ]
     },
     "metadata": {},
     "output_type": "display_data"
    }
   ],
   "source": [
    "fig, axs = plt.subplots()\n",
    "\n",
    "bins = np.arange(5, 85, step=5)\n",
    "axs.hist(x_gen_jet1_pts, alpha=0.5, density=True, bins=bins, label='gen')\n",
    "axs.hist(trn_jet1_pts, alpha=0.5, density=True, bins=bins, label='real')\n",
    "\n",
    "axs.set_xlabel(\"$p_{T,1}$ (GeV)\")\n",
    "axs.set_ylabel(\"# events\")\n",
    "axs.legend()"
   ]
  },
  {
   "cell_type": "markdown",
   "metadata": {},
   "source": [
    "Again, you can see that the network struggles to reproduce the distribution, espectially the steep decay at $m_Z / 2$"
   ]
  },
  {
   "cell_type": "markdown",
   "metadata": {},
   "source": [
    "Now the invariant mass of the whole event:"
   ]
  },
  {
   "cell_type": "code",
   "execution_count": 58,
   "metadata": {},
   "outputs": [
    {
     "data": {
      "text/plain": [
       "<matplotlib.legend.Legend at 0x7f34266e24a0>"
      ]
     },
     "execution_count": 58,
     "metadata": {},
     "output_type": "execute_result"
    },
    {
     "data": {
      "image/png": "[encoded data removed]",
      "text/plain": [
       "<Figure size 640x480 with 1 Axes>"
      ]
     },
     "metadata": {},
     "output_type": "display_data"
    }
   ],
   "source": [
    "fig, axs = plt.subplots()\n",
    "\n",
    "bins = np.arange(5, 165, step=10)\n",
    "axs.hist(np.nan_to_num(x_gen_evnt_ims), alpha=0.5, density=True, bins=bins, label='gen')\n",
    "axs.hist(np.nan_to_num(trn_evnt_ims), alpha=0.5, density=True, bins=bins, label='real')\n",
    "\n",
    "axs.set_xlabel(\"$m_{\\mu\\mu}$ (GeV)\")\n",
    "axs.set_ylabel(\"# events\")\n",
    "axs.legend()"
   ]
  },
  {
   "cell_type": "markdown",
   "metadata": {},
   "source": [
    "While the mass peak is centered at the correct position, it is much wider than in the real data."
   ]
  },
  {
   "cell_type": "markdown",
   "metadata": {},
   "source": [
    "## Removing redundant degrees of freedom"
   ]
  },
  {
   "cell_type": "markdown",
   "metadata": {},
   "source": [
    "In the collider the incoming particles have no momentum in the $x$ or $y$ directions, therefore momentum conservation means that the final state should also not have any momentum in these directions.  This means that we have redundant degrees of freedom that can be removed from the data.\n",
    "\n",
    "We can check this:"
   ]
  },
  {
   "cell_type": "code",
   "execution_count": 49,
   "metadata": {},
   "outputs": [
    {
     "data": {
      "text/plain": [
       "<matplotlib.legend.Legend at 0x7f3426efbdc0>"
      ]
     },
     "execution_count": 49,
     "metadata": {},
     "output_type": "execute_result"
    },
    {
     "data": {
      "image/png": "[encoded data removed]",
      "text/plain": [
       "<Figure size 640x480 with 1 Axes>"
      ]
     },
     "metadata": {},
     "output_type": "display_data"
    }
   ],
   "source": [
    "fig, axs = plt.subplots()\n",
    "\n",
    "bins = np.arange(-5, 5, step=0.1)\n",
    "axs.hist(dy_trn_data[:,1]+dy_trn_data[:,5], alpha=0.5, density=True, bins=bins, label='$p_{x,1}+p_{x_2}$')\n",
    "axs.hist(dy_trn_data[:,2]+dy_trn_data[:,6], alpha=0.5, density=True, bins=bins, label='$p_{y,1}+p_{y_2}$')\n",
    "\n",
    "axs.set_xlabel(\"$p_T$ (GeV)\")\n",
    "axs.set_ylabel(\"# events\")\n",
    "axs.legend()"
   ]
  },
  {
   "cell_type": "markdown",
   "metadata": {},
   "source": [
    "Muons have a mass of about $106$ MeV.  This is much smaller than the typical energy scales involved in the Drell-Yan process we are studying, so we can assume to a good approximation that the mass of the final state particles are zero.  These final state particles are on-shell, i.e. $p^2=m^2=0$, so we can also use this as a constraint.  We can check that this approximately holds:"
   ]
  },
  {
   "cell_type": "code",
   "execution_count": 50,
   "metadata": {},
   "outputs": [
    {
     "data": {
      "text/plain": [
       "<matplotlib.legend.Legend at 0x7f3426c35540>"
      ]
     },
     "execution_count": 50,
     "metadata": {},
     "output_type": "execute_result"
    },
    {
     "data": {
      "image/png": "[encoded data removed]",
      "text/plain": [
       "<Figure size 640x480 with 1 Axes>"
      ]
     },
     "metadata": {},
     "output_type": "display_data"
    }
   ],
   "source": [
    "fig, axs = plt.subplots()\n",
    "\n",
    "bins = np.arange(-5, 5, step=0.1)\n",
    "axs.hist(dy_trn_data[:,0]**2-dy_trn_data[:,1]**2-dy_trn_data[:,2]**2-dy_trn_data[:,3]**2, \n",
    "         alpha=0.5, density=True, bins=bins, label='$m_1^2$')\n",
    "axs.hist(dy_trn_data[:,4]**2-dy_trn_data[:,5]**2-dy_trn_data[:,6]**2-dy_trn_data[:,7]**2, \n",
    "         alpha=0.5, density=True, bins=bins, label='$m_2^2$')\n",
    "\n",
    "axs.set_xlabel(\"$m^2$ (GeV$^2$)\")\n",
    "axs.set_ylabel(\"# events\")\n",
    "axs.legend()"
   ]
  },
  {
   "cell_type": "markdown",
   "metadata": {},
   "source": [
    "We can remove 4 degrees of freedom from the data. For the remaining 4 degrees of freedom, we can choose a more suitable representation that takes into account the symmetries of our data:\n",
    "- $p_T = \\sqrt{p_{x,1}^2+p_{y,1}^2}$\n",
    "- $\\eta_1 = \\text{arctanh}\\left(\\frac{p_{z,1}}{\\sqrt{p_{x,1}^2+p_{y,1}^2+p_{z,1}^2}}\\right)$\n",
    "- $\\eta_2 = \\text{arctanh}\\left(\\frac{p_{z,2}}{\\sqrt{p_{x,2}^2+p_{y,2}^2+p_{z,2}^2}}\\right)$\n",
    "- $\\phi = \\text{arctan2}(p_{y,1}, p_{x,1})$\n",
    "\n",
    "We know that $\\phi$ is uniformly distributed, so we don't have to train the network on it and just sample it from a uniform distribution. So we are left with 3 degrees of freedom."
   ]
  },
  {
   "cell_type": "markdown",
   "metadata": {},
   "source": [
    "Let's re-do the data."
   ]
  },
  {
   "cell_type": "code",
   "execution_count": 59,
   "metadata": {},
   "outputs": [],
   "source": [
    "def remove_dof(data_full):\n",
    "    pt = np.sqrt(data_full[:,1]**2 + data_full[:,2]**2)\n",
    "    eta1 = np.arctanh(data_full[:,3] / np.sqrt(data_full[:,1]**2 + data_full[:,2]**2 + data_full[:,3]**2))\n",
    "    eta2 = np.arctanh(data_full[:,7] / np.sqrt(data_full[:,5]**2 + data_full[:,6]**2 + data_full[:,7]**2))\n",
    "    return np.stack((pt, eta1, eta2), axis=1)\n",
    "    \n",
    "def add_dof(data_red):\n",
    "    pt = data_red[...,0]\n",
    "    eta1 = data_red[...,1]\n",
    "    eta2 = data_red[...,2]\n",
    "    phi1 = np.random.uniform(0, 2*np.pi, data_red.shape[:-1])\n",
    "    px1 = pt * np.cos(phi1)\n",
    "    py1 = pt * np.sin(phi1)\n",
    "    pz1 = pt * np.sinh(eta1)\n",
    "    e1 = np.sqrt(px1**2 + py1**2 + pz1**2)\n",
    "    px2 = -px1\n",
    "    py2 = -py1\n",
    "    pz2 = pt * np.sinh(eta2)\n",
    "    e2 = np.sqrt(px2**2 + py2**2 + pz2**2)\n",
    "    return np.stack((e1, px1, py1, pz1, e2, px2, py2, pz2), axis=-1)"
   ]
  },
  {
   "cell_type": "code",
   "execution_count": 60,
   "metadata": {},
   "outputs": [],
   "source": [
    "dy_trn_data_nr = remove_dof(dy_trn_data)\n",
    "dy_val_data_nr = remove_dof(dy_val_data)\n",
    "dy_tst_data_nr = remove_dof(dy_tst_data)"
   ]
  },
  {
   "cell_type": "code",
   "execution_count": 61,
   "metadata": {},
   "outputs": [
    {
     "data": {
      "text/plain": [
       "((1384081, 3), (296588, 3), (296588, 3))"
      ]
     },
     "execution_count": 61,
     "metadata": {},
     "output_type": "execute_result"
    }
   ],
   "source": [
    "dy_trn_data_nr.shape, dy_val_data_nr.shape, dy_tst_data_nr.shape"
   ]
  },
  {
   "cell_type": "code",
   "execution_count": 62,
   "metadata": {},
   "outputs": [],
   "source": [
    "trn_mean_nr = np.mean(dy_trn_data_nr, axis=0)\n",
    "trn_std_nr = np.std(dy_trn_data_nr, axis=0)\n",
    "dy_trn_data_nr_p = torch.Tensor((dy_trn_data_nr - trn_mean_nr) / trn_std_nr)\n",
    "dy_val_data_nr_p = torch.Tensor((dy_val_data_nr - trn_mean_nr) / trn_std_nr)\n",
    "dy_tst_data_nr_p = torch.Tensor((dy_tst_data_nr - trn_mean_nr) / trn_std_nr)"
   ]
  },
  {
   "cell_type": "code",
   "execution_count": 63,
   "metadata": {},
   "outputs": [],
   "source": [
    "trn_dataset_nr = TensorDataset(dy_trn_data_nr_p)\n",
    "val_dataset_nr = TensorDataset(dy_val_data_nr_p)\n",
    "tst_dataset_nr = TensorDataset(dy_tst_data_nr_p)\n",
    "trn_dataloader_nr = DataLoader(trn_dataset_nr, batch_size=2500, shuffle=True)\n",
    "val_dataloader_nr = DataLoader(val_dataset_nr, batch_size=2500, shuffle=True)\n",
    "tst_dataloader_nr = DataLoader(tst_dataset_nr, batch_size=2500, shuffle=True)"
   ]
  },
  {
   "cell_type": "markdown",
   "metadata": {},
   "source": [
    "Let's double check it:"
   ]
  },
  {
   "cell_type": "code",
   "execution_count": 64,
   "metadata": {},
   "outputs": [],
   "source": [
    "trn_events_nr = add_dof(dy_trn_data_nr)\n",
    "val_events_nr = add_dof(dy_val_data_nr)\n",
    "tst_events_nr = add_dof(dy_tst_data_nr)\n",
    "\n",
    "trn_evnt_nr_ims, trn_evnt_nr_pts, trn_jet1_nr_pts, trn_jet2_nr_pts = get_obs(trn_events_nr)\n",
    "val_evnt_nr_ims, val_evnt_nr_pts, val_jet1_nr_pts, val_jet2_nr_pts = get_obs(val_events_nr)\n",
    "tst_evnt_nr_ims, tst_evnt_nr_pts, tst_jet1_nr_pts, tst_jet2_nr_pts = get_obs(tst_events_nr)"
   ]
  },
  {
   "cell_type": "markdown",
   "metadata": {},
   "source": [
    "Plot $p_{y,1}$ (they are not exactly the same because we throw away $\\phi$ and then sample it again):"
   ]
  },
  {
   "cell_type": "code",
   "execution_count": 67,
   "metadata": {},
   "outputs": [
    {
     "data": {
      "text/plain": [
       "<matplotlib.legend.Legend at 0x7f3428f0f850>"
      ]
     },
     "execution_count": 67,
     "metadata": {},
     "output_type": "execute_result"
    },
    {
     "data": {
      "image/png": "[encoded data removed]",
      "text/plain": [
       "<Figure size 640x480 with 1 Axes>"
      ]
     },
     "metadata": {},
     "output_type": "display_data"
    }
   ],
   "source": [
    "fig, axs = plt.subplots()\n",
    "\n",
    "bins = np.arange(-100, +100, step=10)\n",
    "axs.hist(trn_events_nr[:,2], alpha=0.5, density=True, bins=bins, label='gen')\n",
    "axs.hist(dy_trn_data[:,2], alpha=0.5, density=True, bins=bins, label='real')\n",
    "\n",
    "axs.set_xlabel(\"$p_{y,1}$ (GeV)\")\n",
    "axs.set_ylabel(\"# events\")\n",
    "axs.legend()"
   ]
  },
  {
   "cell_type": "markdown",
   "metadata": {},
   "source": [
    "Let's plot the invariant mass of the events:"
   ]
  },
  {
   "cell_type": "code",
   "execution_count": 69,
   "metadata": {},
   "outputs": [
    {
     "data": {
      "text/plain": [
       "Text(0, 0.5, '# events')"
      ]
     },
     "execution_count": 69,
     "metadata": {},
     "output_type": "execute_result"
    },
    {
     "data": {
      "image/png": "[encoded data removed]",
      "text/plain": [
       "<Figure size 640x480 with 1 Axes>"
      ]
     },
     "metadata": {},
     "output_type": "display_data"
    }
   ],
   "source": [
    "fig, axs = plt.subplots()\n",
    "\n",
    "axs.hist(trn_evnt_nr_ims, alpha=0.5, density=True, bins=15)\n",
    "axs.set_xlabel(\"$m_{\\mu\\mu}$ (GeV)\")\n",
    "axs.set_ylabel(\"# events\")"
   ]
  },
  {
   "cell_type": "markdown",
   "metadata": {},
   "source": [
    "Here we see the clear $Z$ mass peak at $\\simeq 90$ GeV."
   ]
  },
  {
   "cell_type": "markdown",
   "metadata": {},
   "source": [
    "Now let's look at $p_T$ distributions:"
   ]
  },
  {
   "cell_type": "code",
   "execution_count": 70,
   "metadata": {},
   "outputs": [
    {
     "data": {
      "text/plain": [
       "Text(0, 0.5, '# events')"
      ]
     },
     "execution_count": 70,
     "metadata": {},
     "output_type": "execute_result"
    },
    {
     "data": {
      "image/png": "[encoded data removed]",
      "text/plain": [
       "<Figure size 640x480 with 1 Axes>"
      ]
     },
     "metadata": {},
     "output_type": "display_data"
    }
   ],
   "source": [
    "fig, axs = plt.subplots()\n",
    "\n",
    "axs.hist(trn_jet1_nr_pts, alpha=0.5, density=True, bins=15)\n",
    "axs.hist(trn_jet2_nr_pts, alpha=0.5, density=True, bins=15)\n",
    "\n",
    "axs.set_xlabel(\"$p_{T}$ (GeV)\")\n",
    "axs.set_ylabel(\"# events\")"
   ]
  },
  {
   "cell_type": "markdown",
   "metadata": {},
   "source": [
    "So we can recover the original distributions.  Let's move on."
   ]
  },
  {
   "cell_type": "markdown",
   "metadata": {},
   "source": [
    "## Optimising the INN on the reduced data"
   ]
  },
  {
   "cell_type": "code",
   "execution_count": 71,
   "metadata": {
    "scrolled": true
   },
   "outputs": [
    {
     "name": "stdout",
     "output_type": "stream",
     "text": [
      "-----------------------------------------------\n",
      "model architecture \n",
      "-----------------------------------------------\n",
      "SequenceINN(\n",
      "  (module_list): ModuleList(\n",
      "    (0-7): 8 x AllInOneBlock(\n",
      "      (softplus): Softplus(beta=0.5, threshold=20)\n",
      "      (subnet): Sequential(\n",
      "        (0): Linear(in_features=2, out_features=32, bias=True)\n",
      "        (1): ReLU()\n",
      "        (2): Linear(in_features=32, out_features=32, bias=True)\n",
      "        (3): ReLU()\n",
      "        (4): Linear(in_features=32, out_features=2, bias=True)\n",
      "      )\n",
      "    )\n",
      "  )\n",
      ")\n",
      "-----------------------------------------------\n",
      "Epoch 1\n",
      "-----------------------------------------------\n",
      "current batch loss: 0.188536  [    0/1384081]\n",
      "current batch loss: 0.070687  [  100/1384081]\n",
      "current batch loss: 0.004766  [  200/1384081]\n",
      "current batch loss: -0.018730  [  300/1384081]\n",
      "current batch loss: -0.046451  [  400/1384081]\n",
      "current batch loss: -0.048574  [  500/1384081]\n",
      "-----------------------------------------------\n",
      "avg trn loss per batch: -0.053580\n",
      "-----------------------------------------------\n",
      "avg val loss per batch: -0.053551\n",
      "-----------------------------------------------\n",
      "|\n",
      "-----------------------------------------------\n",
      "Epoch 2\n",
      "-----------------------------------------------\n",
      "current batch loss: -0.058903  [    0/1384081]\n",
      "current batch loss: -0.055507  [  100/1384081]\n",
      "current batch loss: -0.058808  [  200/1384081]\n",
      "current batch loss: -0.061818  [  300/1384081]\n",
      "current batch loss: -0.064808  [  400/1384081]\n",
      "current batch loss: -0.067956  [  500/1384081]\n",
      "-----------------------------------------------\n",
      "avg trn loss per batch: -0.068910\n",
      "-----------------------------------------------\n",
      "avg val loss per batch: -0.068911\n",
      "-----------------------------------------------\n",
      "|\n",
      "-----------------------------------------------\n",
      "Epoch 3\n",
      "-----------------------------------------------\n",
      "current batch loss: -0.065650  [    0/1384081]\n",
      "current batch loss: -0.072168  [  100/1384081]\n",
      "current batch loss: -0.072122  [  200/1384081]\n",
      "current batch loss: -0.067865  [  300/1384081]\n",
      "current batch loss: -0.071630  [  400/1384081]\n",
      "current batch loss: -0.082075  [  500/1384081]\n",
      "-----------------------------------------------\n",
      "avg trn loss per batch: -0.074464\n",
      "-----------------------------------------------\n",
      "avg val loss per batch: -0.074450\n",
      "-----------------------------------------------\n",
      "|\n",
      "-----------------------------------------------\n",
      "Epoch 4\n",
      "-----------------------------------------------\n",
      "current batch loss: -0.069128  [    0/1384081]\n",
      "current batch loss: -0.083436  [  100/1384081]\n",
      "current batch loss: -0.070030  [  200/1384081]\n",
      "current batch loss: -0.073829  [  300/1384081]\n",
      "current batch loss: -0.077490  [  400/1384081]\n",
      "current batch loss: -0.084435  [  500/1384081]\n",
      "-----------------------------------------------\n",
      "avg trn loss per batch: -0.078939\n",
      "-----------------------------------------------\n",
      "avg val loss per batch: -0.078751\n",
      "-----------------------------------------------\n",
      "|\n",
      "-----------------------------------------------\n",
      "Epoch 5\n",
      "-----------------------------------------------\n",
      "current batch loss: -0.078294  [    0/1384081]\n",
      "current batch loss: -0.078363  [  100/1384081]\n",
      "current batch loss: -0.078548  [  200/1384081]\n",
      "current batch loss: -0.083605  [  300/1384081]\n",
      "current batch loss: -0.071872  [  400/1384081]\n",
      "current batch loss: -0.090954  [  500/1384081]\n",
      "-----------------------------------------------\n",
      "avg trn loss per batch: -0.080736\n",
      "-----------------------------------------------\n",
      "avg val loss per batch: -0.080513\n",
      "-----------------------------------------------\n",
      "|\n",
      "-----------------------------------------------\n",
      "Epoch 6\n",
      "-----------------------------------------------\n",
      "current batch loss: -0.079297  [    0/1384081]\n",
      "current batch loss: -0.085007  [  100/1384081]\n",
      "current batch loss: -0.080909  [  200/1384081]\n",
      "current batch loss: -0.087037  [  300/1384081]\n",
      "current batch loss: -0.079946  [  400/1384081]\n",
      "current batch loss: -0.082157  [  500/1384081]\n",
      "-----------------------------------------------\n",
      "avg trn loss per batch: -0.082385\n",
      "-----------------------------------------------\n",
      "avg val loss per batch: -0.082192\n",
      "-----------------------------------------------\n",
      "|\n",
      "-----------------------------------------------\n",
      "Epoch 7\n",
      "-----------------------------------------------\n",
      "current batch loss: -0.087715  [    0/1384081]\n",
      "current batch loss: -0.087518  [  100/1384081]\n",
      "current batch loss: -0.081531  [  200/1384081]\n",
      "current batch loss: -0.083424  [  300/1384081]\n",
      "current batch loss: -0.089559  [  400/1384081]\n",
      "current batch loss: -0.085638  [  500/1384081]\n",
      "-----------------------------------------------\n",
      "avg trn loss per batch: -0.083480\n",
      "-----------------------------------------------\n",
      "avg val loss per batch: -0.083243\n",
      "-----------------------------------------------\n",
      "|\n",
      "-----------------------------------------------\n",
      "Epoch 8\n",
      "-----------------------------------------------\n",
      "current batch loss: -0.083235  [    0/1384081]\n",
      "current batch loss: -0.085224  [  100/1384081]\n",
      "current batch loss: -0.076287  [  200/1384081]\n",
      "current batch loss: -0.083715  [  300/1384081]\n",
      "current batch loss: -0.084535  [  400/1384081]\n",
      "current batch loss: -0.087394  [  500/1384081]\n",
      "-----------------------------------------------\n",
      "avg trn loss per batch: -0.083895\n",
      "-----------------------------------------------\n",
      "avg val loss per batch: -0.083607\n",
      "-----------------------------------------------\n",
      "|\n",
      "-----------------------------------------------\n",
      "Epoch 9\n",
      "-----------------------------------------------\n",
      "current batch loss: -0.085783  [    0/1384081]\n",
      "current batch loss: -0.080726  [  100/1384081]\n",
      "current batch loss: -0.081083  [  200/1384081]\n",
      "current batch loss: -0.078288  [  300/1384081]\n",
      "current batch loss: -0.086293  [  400/1384081]\n",
      "current batch loss: -0.083531  [  500/1384081]\n",
      "-----------------------------------------------\n",
      "avg trn loss per batch: -0.084146\n",
      "-----------------------------------------------\n",
      "avg val loss per batch: -0.083826\n",
      "-----------------------------------------------\n",
      "|\n",
      "-----------------------------------------------\n",
      "Epoch 10\n",
      "-----------------------------------------------\n",
      "current batch loss: -0.084260  [    0/1384081]\n",
      "current batch loss: -0.088819  [  100/1384081]\n",
      "current batch loss: -0.084001  [  200/1384081]\n",
      "current batch loss: -0.079574  [  300/1384081]\n",
      "current batch loss: -0.081357  [  400/1384081]\n",
      "current batch loss: -0.084190  [  500/1384081]\n",
      "-----------------------------------------------\n",
      "avg trn loss per batch: -0.084046\n",
      "-----------------------------------------------\n",
      "avg val loss per batch: -0.083755\n",
      "-----------------------------------------------\n",
      "|\n",
      "Done!\n"
     ]
    }
   ],
   "source": [
    "# a useful function to present things clearer\n",
    "def separator():\n",
    "    print(\"-----------------------------------------------\")\n",
    "\n",
    "epochs = 10\n",
    "\n",
    "# re-initialise the model and the optimizer\n",
    "def subnet_fc(dims_in, dims_out):\n",
    "    return nn.Sequential(\n",
    "        nn.Linear(dims_in, 32), \n",
    "        nn.ReLU(),\n",
    "        nn.Linear(32, 32), \n",
    "        nn.ReLU(),\n",
    "        nn.Linear(32, dims_out)\n",
    "    )\n",
    "ndim_nr = 3\n",
    "inn_nr = Ff.SequenceINN(ndim_nr)\n",
    "for k in range(8):\n",
    "    inn_nr.append(Fm.AllInOneBlock, subnet_constructor=subnet_fc, permute_soft=True)\n",
    "learning_rate = 0.001\n",
    "optimizer_nr = torch.optim.Adam(inn_nr.parameters(), lr=learning_rate)\n",
    "separator()\n",
    "print(\"model architecture \")\n",
    "separator()\n",
    "print(inn_nr)\n",
    "\n",
    "# track train and val losses\n",
    "trn_losses_nr = []\n",
    "val_losses_nr = []\n",
    "\n",
    "for t in range(epochs):\n",
    "    separator()\n",
    "    print(f\"Epoch {t+1}\")\n",
    "    separator()\n",
    "    train_epoch(trn_dataloader_nr, inn_nr, optimizer_nr)\n",
    "    separator()\n",
    "    trn_loss = trn_pass(trn_dataloader_nr, inn_nr)\n",
    "    trn_losses_nr.append(trn_loss)\n",
    "    separator()\n",
    "    val_loss = val_pass(val_dataloader_nr, inn_nr)\n",
    "    val_losses_nr.append(val_loss)\n",
    "    separator()\n",
    "    print( \"|\" )\n",
    "    \n",
    "print(\"Done!\")"
   ]
  },
  {
   "cell_type": "code",
   "execution_count": 72,
   "metadata": {},
   "outputs": [
    {
     "data": {
      "text/plain": [
       "<matplotlib.legend.Legend at 0x7f3428f352d0>"
      ]
     },
     "execution_count": 72,
     "metadata": {},
     "output_type": "execute_result"
    },
    {
     "data": {
      "image/png": "[encoded data removed]",
      "text/plain": [
       "<Figure size 640x480 with 1 Axes>"
      ]
     },
     "metadata": {},
     "output_type": "display_data"
    }
   ],
   "source": [
    "fig, axs = plt.subplots()\n",
    "\n",
    "axs.plot(trn_losses_nr, label=\"train loss\")\n",
    "axs.plot(val_losses_nr, label=\"val loss\")\n",
    "\n",
    "axs.set_xlabel(\"epoch\")\n",
    "axs.set_ylabel(\"loss\")\n",
    "axs.legend()"
   ]
  },
  {
   "cell_type": "markdown",
   "metadata": {},
   "source": [
    "## Study the new results"
   ]
  },
  {
   "cell_type": "markdown",
   "metadata": {},
   "source": [
    "We now generate data and recover the original observables."
   ]
  },
  {
   "cell_type": "code",
   "execution_count": 73,
   "metadata": {},
   "outputs": [],
   "source": [
    "z_gen_nr = torch.randn((10000, ndim_nr))\n",
    "x_gen_nr, _ = inn_nr(z_gen_nr, rev=True)\n",
    "x_gen_nr = x_gen_nr.detach().numpy() * trn_std_nr + trn_mean_nr\n",
    "x_gen_nr = add_dof(x_gen_nr)"
   ]
  },
  {
   "cell_type": "markdown",
   "metadata": {},
   "source": [
    "Plot the energy distribution of the first jet, for both real and generated data:"
   ]
  },
  {
   "cell_type": "code",
   "execution_count": 74,
   "metadata": {},
   "outputs": [
    {
     "data": {
      "text/plain": [
       "<matplotlib.legend.Legend at 0x7f3428d487c0>"
      ]
     },
     "execution_count": 74,
     "metadata": {},
     "output_type": "execute_result"
    },
    {
     "data": {
      "image/png": "[encoded data removed]",
      "text/plain": [
       "<Figure size 640x480 with 1 Axes>"
      ]
     },
     "metadata": {},
     "output_type": "display_data"
    }
   ],
   "source": [
    "fig, axs = plt.subplots()\n",
    "\n",
    "bins = np.arange(0, 350, step=20)\n",
    "axs.hist(x_gen_nr[:,0], alpha=0.5, density=True, bins=bins, label='gen')\n",
    "axs.hist(dy_trn_data[:,0], alpha=0.5, density=True, bins=bins, label='real')\n",
    "\n",
    "axs.set_xlabel(\"$E_{1}$ (GeV)\")\n",
    "axs.set_ylabel(\"# events\")\n",
    "axs.legend()"
   ]
  },
  {
   "cell_type": "markdown",
   "metadata": {},
   "source": [
    "This time, the generated data matches the truth data better than before!\n",
    "\n",
    "We can do the same for $p_y$ of the first jet:"
   ]
  },
  {
   "cell_type": "code",
   "execution_count": 75,
   "metadata": {},
   "outputs": [
    {
     "data": {
      "text/plain": [
       "<matplotlib.legend.Legend at 0x7f3428aaa8c0>"
      ]
     },
     "execution_count": 75,
     "metadata": {},
     "output_type": "execute_result"
    },
    {
     "data": {
      "image/png": "[encoded data removed]",
      "text/plain": [
       "<Figure size 640x480 with 1 Axes>"
      ]
     },
     "metadata": {},
     "output_type": "display_data"
    }
   ],
   "source": [
    "fig, axs = plt.subplots()\n",
    "\n",
    "bins = np.arange(-100, +100, step=10)\n",
    "axs.hist(x_gen_nr[:,6], alpha=0.5, density=True, bins=bins, label='gen')\n",
    "axs.hist(dy_trn_data[:,6], alpha=0.5, density=True, bins=bins, label='real')\n",
    "\n",
    "axs.set_xlabel(\"$p_{y,1}$ (GeV)\")\n",
    "axs.set_ylabel(\"# events\")\n",
    "axs.legend()"
   ]
  },
  {
   "cell_type": "markdown",
   "metadata": {},
   "source": [
    "This looks much better than before! Let's look at some other observables.\n",
    "\n",
    "First we need to calucate them from the generated data:"
   ]
  },
  {
   "cell_type": "code",
   "execution_count": 76,
   "metadata": {},
   "outputs": [],
   "source": [
    "x_gen_evnt_nr_ims, x_gen_evnt_nr_pts, x_gen_jet1_nr_pts, x_gen_jet2_nr_pts = get_obs(x_gen_nr)"
   ]
  },
  {
   "cell_type": "markdown",
   "metadata": {},
   "source": [
    "The $p_T$ of the first jet:"
   ]
  },
  {
   "cell_type": "code",
   "execution_count": 77,
   "metadata": {},
   "outputs": [
    {
     "data": {
      "text/plain": [
       "<matplotlib.legend.Legend at 0x7f34210f2830>"
      ]
     },
     "execution_count": 77,
     "metadata": {},
     "output_type": "execute_result"
    },
    {
     "data": {
      "image/png": "[encoded data removed]",
      "text/plain": [
       "<Figure size 640x480 with 1 Axes>"
      ]
     },
     "metadata": {},
     "output_type": "display_data"
    }
   ],
   "source": [
    "fig, axs = plt.subplots()\n",
    "\n",
    "bins = np.arange(5, 85, step=5)\n",
    "axs.hist(x_gen_jet1_nr_pts, alpha=0.5, density=True, bins=bins, label='gen')\n",
    "axs.hist(trn_jet1_nr_pts, alpha=0.5, density=True, bins=bins, label='real')\n",
    "\n",
    "axs.set_xlabel(\"$p_{T,1}$ (GeV)\")\n",
    "axs.set_ylabel(\"# events\")\n",
    "axs.legend()"
   ]
  },
  {
   "cell_type": "markdown",
   "metadata": {},
   "source": [
    "Looks great!"
   ]
  },
  {
   "cell_type": "markdown",
   "metadata": {},
   "source": [
    "Now the invariant mass of the whole event:"
   ]
  },
  {
   "cell_type": "code",
   "execution_count": 78,
   "metadata": {},
   "outputs": [
    {
     "data": {
      "text/plain": [
       "<matplotlib.legend.Legend at 0x7f3420e12740>"
      ]
     },
     "execution_count": 78,
     "metadata": {},
     "output_type": "execute_result"
    },
    {
     "data": {
      "image/png": "[encoded data removed]",
      "text/plain": [
       "<Figure size 640x480 with 1 Axes>"
      ]
     },
     "metadata": {},
     "output_type": "display_data"
    }
   ],
   "source": [
    "fig, axs = plt.subplots()\n",
    "\n",
    "bins = np.arange(5, 165, step=10)\n",
    "axs.hist(np.nan_to_num(x_gen_evnt_nr_ims), alpha=0.5, density=True, bins=bins, label='gen')\n",
    "axs.hist(np.nan_to_num(trn_evnt_ims), alpha=0.5, density=True, bins=bins, label='real')\n",
    "\n",
    "axs.set_xlabel(\"$m_{\\mu\\mu}$ (GeV)\")\n",
    "axs.set_ylabel(\"# events\")\n",
    "axs.legend()"
   ]
  },
  {
   "cell_type": "markdown",
   "metadata": {},
   "source": [
    "Again this is not perfect, but the peak of the generated distribution is at the correct place."
   ]
  }
 ],
 "metadata": {
  "kernelspec": {
   "display_name": "Python 3 (ipykernel)",
   "language": "python",
   "name": "python3"
  },
  "language_info": {
   "codemirror_mode": {
    "name": "ipython",
    "version": 3
   },
   "file_extension": ".py",
   "mimetype": "text/x-python",
   "name": "python",
   "nbconvert_exporter": "python",
   "pygments_lexer": "ipython3",
   "version": "3.10.10"
  }
 },
 "nbformat": 4,
 "nbformat_minor": 4
}
